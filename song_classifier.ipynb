{
 "cells": [
  {
   "cell_type": "markdown",
   "metadata": {},
   "source": [
    "### Etape nous permettant d'utiliser Google Colab (Optionnel)"
   ]
  },
  {
   "cell_type": "code",
   "execution_count": 1,
   "metadata": {
    "colab": {
     "base_uri": "https://localhost:8080/",
     "height": 119
    },
    "colab_type": "code",
    "id": "sUZWY9cLsy9O",
    "outputId": "60718a63-8e8c-4764-dcd2-6e95014d2311"
   },
   "outputs": [
    {
     "name": "stdout",
     "output_type": "stream",
     "text": [
      "Cloning into 'song-classifier'...\n",
      "remote: Enumerating objects: 194, done.\u001b[K\n",
      "remote: Total 194 (delta 0), reused 0 (delta 0), pack-reused 194\u001b[K\n",
      "Receiving objects: 100% (194/194), 1.35 GiB | 14.27 MiB/s, done.\n",
      "Resolving deltas: 100% (14/14), done.\n",
      "Checking out files: 100% (149/149), done.\n"
     ]
    }
   ],
   "source": [
    "!rm -rf song-classifier/\n",
    "!git clone https://github.com/joconte/song-classifier.git"
   ]
  },
  {
   "cell_type": "code",
   "execution_count": null,
   "metadata": {
    "colab": {},
    "colab_type": "code",
    "id": "j0nU2ajCtS3d"
   },
   "outputs": [],
   "source": [
    "%cd song-classifier"
   ]
  },
  {
   "cell_type": "markdown",
   "metadata": {},
   "source": [
    "### Chargement des dépendances pour la transformation d'audio en image"
   ]
  },
  {
   "cell_type": "code",
   "execution_count": 1,
   "metadata": {
    "colab": {},
    "colab_type": "code",
    "id": "tetHjJdzs4_h"
   },
   "outputs": [],
   "source": [
    "import librosa\n",
    "import numpy as np\n",
    "import matplotlib.pyplot as plt\n",
    "import pathlib\n",
    "import warnings\n",
    "warnings.filterwarnings('ignore')"
   ]
  },
  {
   "cell_type": "markdown",
   "metadata": {},
   "source": [
    "### Création de notre méthode de transformation d'audio en image"
   ]
  },
  {
   "cell_type": "code",
   "execution_count": 2,
   "metadata": {},
   "outputs": [],
   "source": [
    "def audio2imageByFile(audioFilePath, imageFilePath):\n",
    "    try:\n",
    "        x, sample_rate = librosa.load(audioFilePath, offset=30,duration=30)\n",
    "\n",
    "        n_fft = 1024\n",
    "        hop_length = 256\n",
    "        n_mels = 40\n",
    "        fmin = 20\n",
    "        fmax = sample_rate / 2 \n",
    "\n",
    "        mel_spec_power = librosa.feature.melspectrogram(x, sr=sample_rate, n_fft=n_fft, \n",
    "                                                        hop_length=hop_length, \n",
    "                                                        n_mels=n_mels, power=2.0, \n",
    "                                                        fmin=fmin, fmax=fmax)\n",
    "        mel_spec_db = librosa.power_to_db(mel_spec_power, ref=np.max)\n",
    "        plt.imsave(imageFilePath, mel_spec_db)\n",
    "        print(audioFilePath)\n",
    "    except Exception as e:\n",
    "        print(e)\n",
    "        print(\"Error on file \" + str(audioFilePath))"
   ]
  },
  {
   "cell_type": "code",
   "execution_count": 3,
   "metadata": {
    "colab": {},
    "colab_type": "code",
    "id": "tEEUEs6ttGcJ"
   },
   "outputs": [],
   "source": [
    "def audio2image(folder, destination):\n",
    "    directory = pathlib.Path(folder)\n",
    "    \n",
    "    for filename in directory.glob('**/*.mp3'):\n",
    "        audio2imageByFile(filename, pathlib.Path(destination).joinpath(filename.name[:-4]+\".png\"))\n",
    "            "
   ]
  },
  {
   "cell_type": "markdown",
   "metadata": {},
   "source": [
    "### Conversion de nos fichiers audio en images"
   ]
  },
  {
   "cell_type": "code",
   "execution_count": 21,
   "metadata": {
    "colab": {},
    "colab_type": "code",
    "id": "kGU9lZcguXcm"
   },
   "outputs": [],
   "source": [
    "classes = ['classique', 'hard-tech', 'rap','rock']"
   ]
  },
  {
   "cell_type": "code",
   "execution_count": 22,
   "metadata": {
    "colab": {
     "base_uri": "https://localhost:8080/",
     "height": 1000
    },
    "colab_type": "code",
    "id": "mPez7NDtuk6H",
    "outputId": "946240c4-08b4-4261-8578-6430494b67c6",
    "scrolled": false
   },
   "outputs": [
    {
     "name": "stdout",
     "output_type": "stream",
     "text": [
      "song/train/classique/beethoven-moonlight-sonata-piano-orchestra.mp3\n",
      "song/train/classique/Swan Lake Waltz - Tchaikovsky.mp3\n",
      "song/train/classique/Mozart Symphony #40 in G Minor, K 550 - 1. Molto Allegro.mp3\n",
      "song/train/classique/Vivaldi - Cello Concerto in C Minor, RV 402 - 1, Allegro.mp3\n",
      "song/train/classique/Karajan - Brahms Symphony No. 2 in D, Op. 73 - I. Allegro non troppo (Part 1).mp3\n",
      "song/train/classique/vivaldi-four-seasons-winter-linverno-complete-cynthia-freivogel-voices-of-music-4k-rv-297.mp3\n",
      "song/train/classique/Franz Schubert - Erlkönig (Roi des Aulnes).mp3\n",
      "song/train/classique/johannes brahms hungarian dance 1 one.mp3\n",
      "song/train/classique/Pachelbel's Canon.mp3\n",
      "song/train/classique/Émile Waldteufel - The Skater's Waltz, Op. 183.mp3\n",
      "song/train/classique/Johannes Brahms - Danse hongroise N°5.mp3\n",
      "song/train/classique/Prokofiev - Roméo et Juliette - Danse des Chevaliers.mp3\n",
      "song/train/classique/The  Entertainer - Scott Joplin (Orchestral).mp3\n",
      "song/train/classique/Wolfgang Amadeus Mozart - Eine kleine Nachtmusik (Serenade No. 13 for strings in G major) complete.mp3\n",
      "song/train/classique/Maple leaf rag - Scott Joplin.mp3\n",
      "song/train/classique/Tchaikovsky - Swan Lake , Le Lac des Cygnes.mp3\n",
      "song/train/classique/Haendel - Sarabande.mp3\n",
      "song/train/classique/Bach  - Minuet and Badinerie from Orchestral Suite No. 2 in B.mp3\n",
      "song/train/classique/wolfgang-amadeus-mozart-piano-concerto-no-21-andante.mp3\n",
      "song/train/classique/Händel Messiah - Hallelujah Chorus.mp3\n",
      "song/train/classique/Luigi Boccherini - Minuet - String Quintet.mp3\n",
      "song/train/classique/Beethoven's 5th Symphony.mp3\n",
      "song/train/classique/Johann Sebastian Bach-Air on G String.mp3\n",
      "song/train/classique/Johannes Brahms - Lullaby.mp3\n",
      "song/train/classique/Petite Musique de Nuit K. 525 en sol majeur Allegro Mozart.mp3\n",
      "song/train/classique/Lettre à Elise    Ludwig van Beethovven.mp3\n",
      "song/train/classique/Beethoven - Sonate au Clair de Lune.mp3\n",
      "song/train/classique/Offenbach - Infernal Galop.mp3\n",
      "song/train/classique/Va  pensiero ('Nabucco', G. Verdi).mp3\n",
      "song/test/classique/Beethoven - Für Elise _ Piano Version.mp3\n",
      "song/test/classique/Johann Sebastian  Bach - Brandenburgische Konzerte - 1  Konzert allegro - Brandenburg Concerto No. 1.mp3\n",
      "song/test/classique/Antonio Vivaldi  - Concert for Two Trumpets, in C Major, RV 537 - 1st Movement - ClassicalExperience.mp3\n",
      "song/test/classique/Tchaikovski - Casse-noisette (Nutcracker) - Valse des fleurs.mp3\n",
      "song/test/classique/Bizet - L'Arlesienne Suite No. 2 - Farandole.mp3\n",
      "song/test/classique/Radetzky March - Johann Strauss Sr.mp3\n",
      "song/test/classique/Schubert - Ave Maria.mp3\n",
      "song/test/classique/Wolfgang Amadeus Mozart - Piano Concerto No. 21 - Andante.mp3\n",
      "song/test/classique/Franz Liszt - Reve d'amour.wmv.mp3\n",
      "song/test/classique/Chopin Nocturne Op 9 No 2 Arthur Rubinstein.mp3\n",
      "song/test/classique/A complete version of Camille Saint-Saens' 'Le carnaval des animaux' (Dutoit) - No. 1-7.mp3\n",
      "song/test/classique/Suite n°1 - Prélude - J.S. Bach - Violoncello da Spalla.mp3\n",
      "song/train/hard-tech/Dr. Peacock & Sefa - Atlantico (Pain is Everywhere) (Official Video).mp3\n",
      "song/train/hard-tech/D-Fence & Deadly Guns - Wall Of Bass.mp3\n",
      "song/train/hard-tech/Dr. Peacock & Dope DOD - Acid Bomb (Official Video).mp3\n",
      "song/train/hard-tech/Dr. Peacock & N-Vitral - Disorder (Official Video).mp3\n",
      "song/train/hard-tech/Deadly Guns x F.Noize - Undefeated.mp3\n",
      "song/train/hard-tech/DJ AniMe -  In The End (Official Videoclip).mp3\n",
      "song/train/hard-tech/Dr. Peacock & Partyraiser - Trip To Holland (Official Video).mp3\n",
      "song/train/hard-tech/Coco's Revenge - Partyraiser & Bulletproof (The Official Videoclip).mp3\n",
      "song/train/hard-tech/Andy The Core & F.Noize - InnovHate (Official Videoclip) (BRU059).mp3\n",
      "song/train/hard-tech/Cryogenic - Mot#3rF$ck3r.mp3\n",
      "song/train/hard-tech/Greazy Puzzy Fuckerz & Mind Compressor - Spaghetti Love.mp3\n",
      "song/train/hard-tech/Destructive Tendencies & Warface - Release The Kraken (Sefa Remix) (Official Videoclip).mp3\n",
      "song/train/hard-tech/Deadly Guns feat. Tha Watcher - The Chosen Ones II [MOHDIGI247].mp3\n",
      "song/train/hard-tech/Angerfist - Creature.mp3\n",
      "song/train/hard-tech/Dr. Peacock & Sefa - The Universe (Official Video).mp3\n",
      "song/train/hard-tech/AniMe - Playing Terror (Official Preview).mp3\n",
      "song/train/hard-tech/Billx & Dr. Peacock - Naarayanaa (Official Video).mp3\n",
      "song/train/hard-tech/Dr. Peacock - Muzika (Sefa Remix).mp3\n",
      "song/train/hard-tech/Angerfist - The Desecrated (Radical Redemption Remix) (Official Videoclip).mp3\n",
      "song/train/hard-tech/[DOG034] Broken Minds - Bow Down (Official Videoclip).mp3\n",
      "song/train/hard-tech/Angerfist & Tha Watcher - Tournament of Tyrants (Official Masters of Hardcore 2018 anthem).mp3\n",
      "song/train/hard-tech/DRS ft. Mc RG - Matennaaier.mp3\n",
      "song/train/hard-tech/DJ Mad Dog - Babylon Dead (Original Mix).mp3\n",
      "song/train/hard-tech/Cryogenic - Bass Slut.mp3\n",
      "song/train/hard-tech/Dr. Peacock & Floxytek - Trip to Romania (Official Video).mp3\n",
      "song/train/hard-tech/AniMe feat. Dave Revan - The Third Invasion (Official Masters of Hardcore Austria 2018 Anthem).mp3\n",
      "song/train/hard-tech/F-Noize & Partyraiser - Black Magic (GroundZero 2018 Anthem Video).mp3\n",
      "song/train/hard-tech/Angerfist & System Overload - Hustlers.mp3\n",
      "song/train/hard-tech/Miss K8 - Out Of The Frame (Official Videoclip).mp3\n",
      "song/train/hard-tech/Dr. Peacock & Billx - It's Called XTC.mp3\n",
      "song/train/hard-tech/F.Noize & Bulletproof - Beautiful People (Official Video).mp3\n",
      "song/train/hard-tech/D-Sturb & Sefa - Nothing Like The Oldschool.mp3\n",
      "song/train/hard-tech/Deadly Guns & Ncrypta - Rip It Open [MOHDIGI256].mp3\n",
      "song/train/hard-tech/DJ Mad Dog - Laughing Loud.mp3\n",
      "song/train/hard-tech/Dr. Peacock - Vive la Volta (Sefa Remix) (Official Video).mp3\n",
      "song/train/hard-tech/Bulletproof - Fight Music (Video Clip).mp3\n",
      "song/train/hard-tech/Deadly Guns & E-Force - Invincible [MOHDIGI252].mp3\n",
      "song/test/hard-tech/N-Vitral presents BOMBSQUAD - Poison Spitter (Official Snakepit 2018 anthem).mp3\n",
      "song/test/hard-tech/Sefa & Dr. Peacock - World Of The Dream (Official Video).mp3\n",
      "song/test/hard-tech/Partyraiser & Destructive Tendencies - Sound Becomes One - Official Videoclip.mp3\n",
      "song/test/hard-tech/N-Vitral presents BOMBSQUAD - Mainstream Mutilators [Official Music Video].mp3\n",
      "song/test/hard-tech/Sprinky & Death Faction - Kryptonite (Video Clip).mp3\n",
      "song/test/hard-tech/Radical Redemption - Sacrifice (HQ Official).mp3\n",
      "song/test/hard-tech/N-Vitral - Crispy Bassdrum (N-Vitral presents BOMBSQUAD Remix).mp3\n",
      "song/test/hard-tech/Partyraiser & Bulletproof feat. Skits Vicious - The Snakepit (Official Snakepit 2018 anthem).mp3\n",
      "song/test/hard-tech/Miss K8 - Temper.mp3\n",
      "song/test/hard-tech/Radical Redemption & N-Vitral - Hannibal (Official Videoclip).mp3\n",
      "song/test/hard-tech/Sefa - Schopenhauer (Official Video).mp3\n",
      "song/test/hard-tech/Re-Style x Broken Minds x Alee - Basshead (Official Videoclip).mp3\n",
      "song/test/hard-tech/Sefa - Leven is Lijden (Official Clip).mp3\n",
      "song/test/hard-tech/Sefa - Follow (Frenchcore).mp3\n",
      "song/test/hard-tech/N Vitral presents BOMBSQUAD - The Chop Show (Ft.  F.Noize) [Official Music Video].mp3\n",
      "song/test/hard-tech/Re-Style - Get It Crackin (Sefa Remix) (Official Videoclip).mp3\n",
      "song/test/hard-tech/Sefa - Suffering Matters.mp3\n",
      "song/test/hard-tech/Sandy Warez - Power Of Shiva.mp3\n",
      "song/test/hard-tech/Sprinky & La Ravage - What Have I Become.mp3\n",
      "song/test/hard-tech/Sefa - In De Hemel (Official Video).mp3\n",
      "song/test/hard-tech/Sefa & Dr. Peacock - The Human Mind (Official Video).mp3\n",
      "song/test/hard-tech/Push It Like This.mp3\n",
      "song/test/hard-tech/Partyraiser vs F. Noize vs Hyrule War - Legends Never Die (BKJN vs Partyraiser anthem) Ft. MC Syco.mp3\n",
      "song/test/hard-tech/Omkara - Forsaken.mp3\n",
      "song/test/hard-tech/N Vitral presents BOMBSQUAD - Troublemakers (Feat.  Warface).mp3\n",
      "song/test/hard-tech/N Vitral presents BOMBSQUAD - Greazy Counter (Ft. Greazy Puzzy Fuckerz).mp3\n",
      "song/train/rap/Eminem - Rap God (Explicit) [Official Video].mp3\n",
      "song/train/rap/Meek Mill - Otherside of America [Official Audio].mp3\n",
      "song/train/rap/Eminem - Mockingbird (Official Music Video).mp3\n",
      "song/train/rap/Eminem - Cleanin' Out My Closet (Official Video).mp3\n",
      "song/train/rap/Kendrick Lamar - Big Shot (feat. Travis Scott)  (Black Panther The Album Music From And Inspired By).mp3\n"
     ]
    },
    {
     "name": "stdout",
     "output_type": "stream",
     "text": [
      "song/train/rap/wonderful.mp3\n",
      "song/train/rap/Gucci Mane - Both Sides feat. Lil Baby.mp3\n",
      "song/train/rap/The Kid LAROI, Juice WRLD - GO (Official Video).mp3\n",
      "song/train/rap/Eminem - Beautiful (Official Music Video).mp3\n",
      "song/train/rap/Lil Durk - 3 Headed Goat ft. Lil Baby & Polo G (Dir. by @_ColeBennett_).mp3\n",
      "song/train/rap/gambi-popopop-clip-officiel.mp3\n",
      "song/train/rap/Lpb Poody _ Address it _ [ Official Audio ].mp3\n",
      "song/train/rap/A Boogie Wit Da Hoodie - Bleed [Official Music Video].mp3\n",
      "song/train/rap/Eminem - Sing For The Moment.mp3\n",
      "song/train/rap/DaBaby – ROCKSTAR FT RODDY RICCH [Audio].mp3\n",
      "song/train/rap/NLE Choppa - Shotta Flow 5 (Dir. by @_ColeBennett_).mp3\n",
      "song/train/rap/Young Thug, Travis Scott - Pick Up the Phone (Explicit) (Official Music Video) ft. Quavo.mp3\n",
      "song/train/rap/21 Savage, Offset & Metro Boomin - 'Ghostface Killers' Ft Travis Scott (Official Audio).mp3\n",
      "song/train/rap/Jul - J'oublie tout [Son Officiel].mp3\n",
      "song/train/rap/Moneybagg Yo - Me Vs Me (Official Music Video).mp3\n",
      "song/train/rap/Lil Uzi Vert, Quavo & Travis Scott - Go Off (from The Fate of the Furious - The Album) [MUSIC VIDEO].mp3\n",
      "song/train/rap/THE SCOTTS, Travis Scott, Kid Cudi - THE SCOTTS (FORTNITE ASTRONOMICAL EVENT).mp3\n",
      "song/train/rap/Polo G - 21 (Dir. by @_ColeBennett_).mp3\n",
      "song/train/rap/Travis Scott - STARGAZING (Audio).mp3\n",
      "song/train/rap/Travis Scott - HIGHEST IN THE ROOM (Official Music Video).mp3\n",
      "song/train/rap/Soolking Ft Jul  - Come vai  (Audio Officiel).mp3\n",
      "song/train/rap/Rells Fargo - Soul in the Sky (Official Music Video).mp3\n",
      "song/train/rap/Gucci Mane - Still Remember feat. Pooh Shiesty.mp3\n",
      "song/train/rap/Jul - Folie _ Clip Officiel _ 📀👽💿 2020.mp3\n",
      "song/train/rap/StaySolidRocky- Party Girl (Official Music Video).mp3\n",
      "song/train/rap/Lil Baby x 42 Dugg - We Paid (Official Video).mp3\n",
      "song/train/rap/J.I., Lil Tjay - Hood Scars 2 (Official Music Video).mp3\n",
      "song/train/rap/Megan Thee Stallion - Girls in the Hood [Lyric Video].mp3\n",
      "song/train/rap/Lil Baby - Social Distancing (Audio).mp3\n",
      "song/train/rap/JuL - Ma Che Beauté _ Clip officiel _ 2018.mp3\n",
      "song/train/rap/JUL _ TU LA LOVE _ DANS MA PARANOÏA.mp3\n",
      "song/train/rap/J. Cole - Snow On Tha Bluff (Official Audio).mp3\n",
      "song/train/rap/nba youngboy - death enclaimed.mp3\n",
      "song/train/rap/Post Malone - Take What You Want [Music Video] ft. Ozzy Osbourne, Travis Scott 2019.mp3\n",
      "song/train/rap/Jul - Sousou _ Clip Officiel _ 2020 📀👽💿.mp3\n",
      "song/train/rap/bosh-djomb-clip-officiel.mp3\n",
      "song/train/rap/JuL - Pow Pow _ Clip officiel _ 2019.mp3\n",
      "song/train/rap/JUL - Tchikita _ [05] Album Gratuit Vol . 2 _ 2016 ( Big up a Dj Babs ).mp3\n",
      "song/train/rap/Eminem - Without Me (Official Video).mp3\n",
      "song/train/rap/Jul - La Machine _ Clip Officiel _ 2019.mp3\n",
      "song/train/rap/JuL - Toto et Ninetta _ Clip officiel _ 2018.mp3\n",
      "song/train/rap/Eminem - The Real Slim Shady (Official Video - Clean Version).mp3\n",
      "song/train/rap/JUL - ALONZO  _ COMME D'HAB  _ CLIP OFFICIEL  _ 2015.mp3\n",
      "song/train/rap/vald-rappel-clip-officiel.mp3\n",
      "song/train/rap/Lil Skies - Riot [Official Music Video].mp3\n",
      "song/train/rap/TROLLZ - 6ix9ine & Nicki Minaj  (Official Music Video).mp3\n",
      "song/train/rap/JUL - MON BIJOU _ CLIP OFFICIEL _ 2016.mp3\n",
      "song/train/rap/Travis Scott - beibs in the trap (Official Music Video) ft. NAV.mp3\n",
      "song/train/rap/JuL - Délicieuse _ Clip officiel  _ 2018.mp3\n",
      "song/train/rap/YG - FTP (Official Music Video).mp3\n",
      "song/train/rap/Eminem - Love The Way You Lie ft. Rihanna.mp3\n",
      "song/train/rap/Travis Scott - goosebumps ft. Kendrick Lamar.mp3\n",
      "song/train/rap/Juice WRLD - Tell Me U Luv Me ft. Trippie Redd (Dir. by @_ColeBennett_).mp3\n",
      "song/train/rap/Lil Mosey - Blueberry Faygo (Dir. by @_ColeBennett_).mp3\n",
      "song/train/rap/Travis  Scott - Through The Late Night (Official Video).mp3\n",
      "song/train/rap/JuL - Fait D'or _  📀👽💿 2020.mp3\n",
      "song/train/rap/NLE Choppa - Walk Em Down feat. Roddy Ricch (Official Music Video).mp3\n",
      "song/train/rap/Eminem - Like Toy Soldiers (Official Video).mp3\n",
      "song/train/rap/Eminem - When I'm Gone (Official Music Video).mp3\n",
      "song/train/rap/Jack Harlow - WHATS POPPIN (feat. DaBaby, Tory Lanez & Lil Wayne) [Official Visualizer].mp3\n",
      "song/train/rap/6IX9INE- GOOBA (Official Music Video).mp3\n",
      "song/train/rap/Yungeen Ace - Don Dada (Official Music Video).mp3\n",
      "song/train/rap/Jul - Coup de Genoux _ Clip officiel _ 2018.mp3\n",
      "song/test/rap/DaBaby - 'JUMP' feat NBA Youngboy (Official Video).mp3\n",
      "song/test/rap/Eminem - Not Afraid (Official Video).mp3\n",
      "song/test/rap/Polo G - 33 (Official Video) 🎥By. Ryan Lynch.mp3\n",
      "song/test/rap/Travis Scott - BUTTERFLY EFFECT (Official Music Video).mp3\n",
      "song/test/rap/Lil Durk - Doin Too Much (Official Music Video).mp3\n",
      "song/test/rap/Eminem - Just Lose It (Official Music Video).mp3\n",
      "song/test/rap/JuL - Ma Jolie _ Clip officiel _ 2017.mp3\n",
      "song/test/rap/JuL - C'est pas des LOL  _ Clip Officiel _ 2019.mp3\n",
      "song/test/rap/Eminem - Lose Yourself [HD].mp3\n",
      "song/test/rap/Jul - JCVD _ Clip Officiel _ 2019.mp3\n",
      "song/test/rap/Avant la douane.mp3\n",
      "song/test/rap/Moneybagg Yo - Cold Shoulder (Official Music Video).mp3\n",
      "song/test/rap/YFN Lucci - Wet (She Got That...) (Official Lyrics Video).mp3\n",
      "song/test/rap/Jul - Elle et l'autre _ Clip Officiel _ 2017.mp3\n",
      "song/test/rap/Lil Baby - The Bigger Picture (Official Music Video).mp3\n",
      "song/test/rap/Lil Wayne - I Don’t Sleep (Official Animated Music Video).mp3\n",
      "song/test/rap/YoungBoy Never Broke Again - One Shot (feat. Lil Baby) [Official Audio].mp3\n",
      "song/test/rap/Eminem - We Made You (Official Video).mp3\n",
      "song/test/rap/Hopsin - Kumbaya.mp3\n",
      "song/test/rap/Toosii - Mercedez [Official Video].mp3\n",
      "song/test/rap/Kanye West – Wash Us In The Blood feat. Travis Scott (Official Video).mp3\n",
      "song/test/rap/Travis Scott - SICKO MODE ft. Drake (Official Video).mp3\n",
      "song/train/rock/WHITESNAKE - Crying In The Rain.mp3\n",
      "song/train/rock/R.E.M.-Losing My Religion(With Lyrics) _in the description box.mp3\n",
      "song/train/rock/green-day-boulevard-of-broken-dreams-official-video.mp3\n",
      "song/train/rock/Iron Maiden - The Trooper.mp3\n",
      "song/train/rock/Kiss - God Gave Rock And Roll To You.mp3\n",
      "song/train/rock/Judas Priest - Living After Midnight (Live from Epitaph).mp3\n",
      "song/train/rock/Van Halen- Runnin' with the devil.mp3\n",
      "song/train/rock/The Police - Every Breath You Take.mp3\n",
      "song/train/rock/Toto - Hold The Line.mp3\n",
      "song/train/rock/red-hot-chili-peppers-californication-official-music-video.mp3\n",
      "song/train/rock/status quo rockin all over the world (lyrics).mp3\n",
      "song/train/rock/Green Day - Wake Me Up When September Ends [Official Music Video].mp3\n",
      "song/train/rock/Tom Petty And The Heartbreakers - Learning To Fly (Version 1).mp3\n",
      "song/train/rock/acdc-thunderstruck-official-video.mp3\n",
      "song/train/rock/Survivor - Eye Of The Tiger (Official Music Video).mp3\n",
      "song/train/rock/motley crue - shout at the devil.mp3\n",
      "song/train/rock/EUROPA - Santana.mp3\n",
      "song/train/rock/Kansas - Dust in the Wind (Official Video).mp3\n",
      "song/train/rock/Metallica-Master Of Puppets (Lyrics).mp3\n",
      "song/test/rock/Bang a Gong (Get It On) by T.Rex.mp3\n",
      "song/test/rock/Nirvana - Smells Like Teen Spirit (Official Music Video).mp3\n",
      "song/test/rock/Red Hot Chili Peppers - Under The Bridge.mp3\n",
      "song/test/rock/Europe - The Final Countdown (Official Video).mp3\n",
      "song/test/rock/Nazareth Love Hurts ( Version Original ).mp3\n",
      "song/test/rock/AC_DC - Back In Black (Official Video).mp3\n",
      "song/test/rock/Guns N' Roses - November Rain.mp3\n",
      "song/test/rock/Guns N' Roses - Sweet Child O' Mine (Official Music Video).mp3\n",
      "song/test/rock/Deep Purple-Child in Time.mp3\n",
      "song/test/rock/Bon Jovi - You Give Love A Bad Name (Official Music Video).mp3\n",
      "song/test/rock/19 Asia Heat Of The Moment.mp3\n",
      "song/test/rock/Judas Priest - Breaking The Law (Official Music Video).mp3\n",
      "song/test/rock/Metallica - Enter Sandman (Official Music Video).mp3\n",
      "song/test/rock/U2 - One.mp3\n",
      "song/test/rock/Pink Floyd - Another Brick In The Wall (HQ).mp3\n",
      "song/test/rock/Guns N' Roses - Paradise City.mp3\n",
      "song/test/rock/Alice Cooper - Poison (Official Video).mp3\n",
      "song/test/rock/Iggy Pop - Lust For Life.mp3\n",
      "song/test/rock/Dire Straits - Brothers In Arms.mp3\n",
      "song/test/rock/Guns N' Roses - Welcome To The Jungle.mp3\n",
      "song/test/rock/Megadeth - Symphony of Destruction (Studio Version).mp3\n",
      "song/test/rock/AC_DC - Thunderstruck (Official Video).mp3\n",
      "song/test/rock/Uriah Heep - Lady in black.mp3\n",
      "song/test/rock/Status Quo 'In The Army Now (2010)' (official video).mp3\n"
     ]
    },
    {
     "name": "stdout",
     "output_type": "stream",
     "text": [
      "song/test/rock/Queen – Bohemian Rhapsody (Official Video Remastered).mp3\n",
      "song/test/rock/DEF LEPPARD - 'Pour Some Sugar On Me' (Official Music Video).mp3\n",
      "song/test/rock/Bad Company - Feel Like Making Love.mp3\n",
      "song/test/rock/Pink Floyd - Money (Official Music Video).mp3\n",
      "song/test/rock/Meat Loaf - I'd Do Anything For Love (But I Won't Do That) (Official Music Video).mp3\n",
      "song/test/rock/Joan Jett & the Blackhearts - I Love Rock N Roll.mp3\n",
      "song/test/rock/Pink Floyd - Wish You Were Here (with lyrics).mp3\n",
      "song/test/rock/Bon Jovi - Wanted Dead Or Alive (Official Music Video).mp3\n",
      "song/test/rock/Creedence Clearwater Revival - Have You Ever Seen The Rain.mp3\n",
      "song/test/rock/santana- black magic woman.mp3\n",
      "song/test/rock/Rainbow - Since You've Been Gone.mp3\n",
      "song/test/rock/Van Halen - Jump (Official Music Video).mp3\n",
      "song/test/rock/Aerosmith - Livin' On The Edge (Official Music Video).mp3\n",
      "song/test/rock/Dio - Heaven And Hell Live 1986.mp3\n",
      "song/test/rock/Gary Moore - Still Got The Blues.mp3\n",
      "song/test/rock/AC_DC - Highway to Hell (Live At River Plate, December 2009).mp3\n",
      "song/test/rock/motley crue - shout at the devil.mp3\n",
      "song/test/rock/Kashmir - Led Zeppelin.mp3\n",
      "song/test/rock/The Who - My Generation.mp3\n",
      "song/test/rock/Boys Are Back In Town Thin Lizzy.mp3\n",
      "song/test/rock/Rush - Limelight (Official Music Video).mp3\n",
      "song/test/rock/BLACK SABBATH - 'Sabbath Bloody Sabbath' (Official Video).mp3\n",
      "song/test/rock/Steppenwolf - Born To Be Wild.mp3\n",
      "song/test/rock/Green Day - 'Boulevard Of Broken Dreams' - [Official Video].mp3\n",
      "song/test/rock/Metallica - One (Official Music Video).mp3\n",
      "song/test/rock/Deep Purple - Smoke on the Water (Audio).mp3\n",
      "song/test/rock/Scorpions - Wind Of Change (Official Music Video).mp3\n"
     ]
    }
   ],
   "source": [
    "for classe in classes:\n",
    "    audio2image(\"song/train/\" + classe, \"image-from-song/train/\" + classe)\n",
    "    audio2image(\"song/test/\" + classe, \"image-from-song/test/\" + classe)"
   ]
  },
  {
   "cell_type": "markdown",
   "metadata": {},
   "source": [
    "### Import des dépendances de FASTAI pour effectuer notre classification"
   ]
  },
  {
   "cell_type": "code",
   "execution_count": 6,
   "metadata": {
    "colab": {},
    "colab_type": "code",
    "id": "yyGpG80v2zW1"
   },
   "outputs": [],
   "source": [
    "from fastai.vision import *"
   ]
  },
  {
   "cell_type": "code",
   "execution_count": null,
   "metadata": {},
   "outputs": [],
   "source": [
    "import torch\n",
    "torch.cuda.get_device_name(0)"
   ]
  },
  {
   "cell_type": "markdown",
   "metadata": {},
   "source": [
    "### Chargement de notre dataset"
   ]
  },
  {
   "cell_type": "code",
   "execution_count": null,
   "metadata": {
    "colab": {},
    "colab_type": "code",
    "id": "dS0ODQFz24pO"
   },
   "outputs": [],
   "source": [
    "data = ImageDataBunch.from_folder(path=\"image-from-song/\", train=\"train\", test=\"test\", valid_pct=0.25, bs=32).normalize(imagenet_stats)"
   ]
  },
  {
   "cell_type": "code",
   "execution_count": null,
   "metadata": {
    "colab": {},
    "colab_type": "code",
    "id": "q0Zt1rqJ26X6"
   },
   "outputs": [],
   "source": [
    "data.show_batch(rows=3)"
   ]
  },
  {
   "cell_type": "markdown",
   "metadata": {},
   "source": [
    "### Chargement du model"
   ]
  },
  {
   "cell_type": "code",
   "execution_count": null,
   "metadata": {
    "colab": {},
    "colab_type": "code",
    "id": "gmadjJ7o28Te"
   },
   "outputs": [],
   "source": [
    "learn = cnn_learner(data, models.resnet50, metrics=accuracy)"
   ]
  },
  {
   "cell_type": "markdown",
   "metadata": {},
   "source": [
    "### Recherche du taux d'apprentisage optimal"
   ]
  },
  {
   "cell_type": "code",
   "execution_count": null,
   "metadata": {
    "colab": {},
    "colab_type": "code",
    "id": "2aOx3xBH29qc"
   },
   "outputs": [],
   "source": [
    "learn.lr_find()"
   ]
  },
  {
   "cell_type": "code",
   "execution_count": null,
   "metadata": {
    "colab": {},
    "colab_type": "code",
    "id": "Kvm2owvC2_PW"
   },
   "outputs": [],
   "source": [
    "learn.recorder.plot(suggestion=True)"
   ]
  },
  {
   "cell_type": "code",
   "execution_count": null,
   "metadata": {
    "colab": {},
    "colab_type": "code",
    "id": "gy8hanNh3A0b"
   },
   "outputs": [],
   "source": [
    "lr = learn.recorder.min_grad_lr"
   ]
  },
  {
   "cell_type": "markdown",
   "metadata": {},
   "source": [
    "### Entraînement"
   ]
  },
  {
   "cell_type": "code",
   "execution_count": null,
   "metadata": {
    "colab": {},
    "colab_type": "code",
    "id": "Tbyl8vJk3COn"
   },
   "outputs": [],
   "source": [
    "# On lance 4 epochs\n",
    "learn.fit_one_cycle(4, slice(lr))"
   ]
  },
  {
   "cell_type": "code",
   "execution_count": null,
   "metadata": {},
   "outputs": [],
   "source": [
    "# Puis on lance les epochs un à un tant que le train_loss, le valid_loss baissent et l'accuracy augmente.\n",
    "learn.fit_one_cycle(1, slice(lr))\n",
    "\n",
    "# Au bout d'une dizaine d'epoch on obtient une accuracy de 90%"
   ]
  },
  {
   "cell_type": "code",
   "execution_count": null,
   "metadata": {
    "colab": {},
    "colab_type": "code",
    "id": "uyFQZHBg3FIS"
   },
   "outputs": [],
   "source": [
    "# On regarde la matrice de confusion\n",
    "preds, y, losses = learn.get_preds(with_loss=True)\n",
    "\n",
    "interp = ClassificationInterpretation(learn, preds, y, losses)\n",
    "interp.plot_confusion_matrix(figsize=(12,12), dpi=60)"
   ]
  },
  {
   "cell_type": "code",
   "execution_count": null,
   "metadata": {
    "colab": {},
    "colab_type": "code",
    "id": "hpfvdEzI3OhC"
   },
   "outputs": [],
   "source": [
    "# On décide de débloquer les poids prédéfinis sur le model resnet50\n",
    "learn.unfreeze()"
   ]
  },
  {
   "cell_type": "markdown",
   "metadata": {},
   "source": [
    "### Recalcul du taux d'apprentisage optimal"
   ]
  },
  {
   "cell_type": "code",
   "execution_count": null,
   "metadata": {},
   "outputs": [],
   "source": [
    "learn.lr_find()"
   ]
  },
  {
   "cell_type": "code",
   "execution_count": null,
   "metadata": {},
   "outputs": [],
   "source": [
    "learn.recorder.plot(suggestion=True)"
   ]
  },
  {
   "cell_type": "code",
   "execution_count": null,
   "metadata": {},
   "outputs": [],
   "source": [
    "lr = learn.recorder.min_grad_lr"
   ]
  },
  {
   "cell_type": "markdown",
   "metadata": {},
   "source": [
    "### Entrainement avec poids 'unfreeze'"
   ]
  },
  {
   "cell_type": "code",
   "execution_count": null,
   "metadata": {},
   "outputs": [],
   "source": [
    "# On lance les epochs un à un tant que le train_loss, le valid_loss baissent et l'accuracy augmente.\n",
    "learn.fit_one_cycle(1, slice(lr))\n",
    "\n",
    "# On obtient ici une accuracy de 97,37%"
   ]
  },
  {
   "cell_type": "markdown",
   "metadata": {},
   "source": [
    "### Sauvegarde de notre modèle"
   ]
  },
  {
   "cell_type": "code",
   "execution_count": null,
   "metadata": {},
   "outputs": [],
   "source": [
    "# On n'utilise pas learn.save() parce que cela créé un fichier plus volumineux (320Mo vs 97Mo)\n",
    "# qui ne contient pas simplement les poids mais un model complet qui est prêt à être réentrainé\n",
    "learn.export()"
   ]
  },
  {
   "cell_type": "markdown",
   "metadata": {},
   "source": [
    "### Chargement de notre modèle"
   ]
  },
  {
   "cell_type": "code",
   "execution_count": 7,
   "metadata": {},
   "outputs": [],
   "source": [
    "learn = load_learner('image-from-song/')"
   ]
  },
  {
   "cell_type": "markdown",
   "metadata": {},
   "source": [
    "### Prédiction"
   ]
  },
  {
   "cell_type": "code",
   "execution_count": 19,
   "metadata": {
    "colab": {},
    "colab_type": "code",
    "id": "MFIs5WbM3XXH"
   },
   "outputs": [
    {
     "name": "stdout",
     "output_type": "stream",
     "text": [
      "/Users/jo/Downloads/song-classifier/song/test/hard-tech/N-Vitral presents BOMBSQUAD - Mainstream Mutilators [Official Music Video].mp3\n",
      "hard-tech\n",
      "{'prediction': 'hard-tech', 'scores': [('hard-tech', 0.9843913316726685), ('rock', 0.011994164437055588), ('classique', 0.0032370395492762327), ('rap', 0.0003773753414861858)]}\n"
     ]
    }
   ],
   "source": [
    "# La technique utilisée ici est légèrement différente de celle vue en cours.\n",
    "# Ici on a l'avantage de ne pas avoir de lien avec l'objet 'data' et on a en plus le détail de la prédiction :\n",
    "# La prédiction, le score en pourcentage pour chaque catégorie. \n",
    "# Ici vous pouvez donc simplement exécuter le chargement des dépendances de FASTAI, le chargement du modèle ci dessus ainsi que cette cellule.\n",
    "import blah\n",
    "audioFilenameBytes = blah.gui_fname() # <-- Demande de choisir un fichier audio\n",
    "audioFilename = audioFilenameBytes.decode('utf-8')\n",
    "imageFilename = \"prediction.png\"\n",
    "!rm -rf prediction.png\n",
    "audio2imageByFile(audioFilename, imageFilename)\n",
    "img = open_image(imageFilename)\n",
    "pred_class, pred_idx, losses = learn.predict(img)\n",
    "print(pred_class)\n",
    "print({\"prediction\": str(pred_class), \"scores\": sorted(zip(learn.data.classes, map(float, losses)), key=lambda p: p[1], reverse=True)})"
   ]
  }
 ],
 "metadata": {
  "accelerator": "GPU",
  "colab": {
   "name": "song-classifier.ipynb",
   "provenance": []
  },
  "kernelspec": {
   "display_name": "Python 3",
   "language": "python",
   "name": "python3"
  },
  "language_info": {
   "codemirror_mode": {
    "name": "ipython",
    "version": 3
   },
   "file_extension": ".py",
   "mimetype": "text/x-python",
   "name": "python",
   "nbconvert_exporter": "python",
   "pygments_lexer": "ipython3",
   "version": "3.7.7"
  }
 },
 "nbformat": 4,
 "nbformat_minor": 1
}
