{
  "nbformat": 4,
  "nbformat_minor": 0,
  "metadata": {
    "colab": {
      "name": "song-classifier.ipynb",
      "provenance": []
    },
    "kernelspec": {
      "name": "python3",
      "display_name": "Python 3"
    },
    "accelerator": "GPU"
  },
  "cells": [
    {
      "cell_type": "code",
      "metadata": {
        "id": "sUZWY9cLsy9O",
        "colab_type": "code",
        "colab": {
          "base_uri": "https://localhost:8080/",
          "height": 119
        },
        "outputId": "60718a63-8e8c-4764-dcd2-6e95014d2311"
      },
      "source": [
        "!rm -rf song-classifier/\n",
        "!git clone https://github.com/joconte/song-classifier.git"
      ],
      "execution_count": 1,
      "outputs": [
        {
          "output_type": "stream",
          "text": [
            "Cloning into 'song-classifier'...\n",
            "remote: Enumerating objects: 194, done.\u001b[K\n",
            "remote: Total 194 (delta 0), reused 0 (delta 0), pack-reused 194\u001b[K\n",
            "Receiving objects: 100% (194/194), 1.35 GiB | 14.27 MiB/s, done.\n",
            "Resolving deltas: 100% (14/14), done.\n",
            "Checking out files: 100% (149/149), done.\n"
          ],
          "name": "stdout"
        }
      ]
    },
    {
      "cell_type": "code",
      "metadata": {
        "id": "j0nU2ajCtS3d",
        "colab_type": "code",
        "colab": {}
      },
      "source": [
        ""
      ],
      "execution_count": null,
      "outputs": []
    },
    {
      "cell_type": "code",
      "metadata": {
        "id": "tetHjJdzs4_h",
        "colab_type": "code",
        "colab": {}
      },
      "source": [
        "import librosa\n",
        "import numpy as np\n",
        "import matplotlib.pyplot as plt\n",
        "import pathlib"
      ],
      "execution_count": 2,
      "outputs": []
    },
    {
      "cell_type": "code",
      "metadata": {
        "id": "tEEUEs6ttGcJ",
        "colab_type": "code",
        "colab": {}
      },
      "source": [
        "def audio2image(folder, destination):\n",
        "    directory = pathlib.Path(folder)\n",
        "#     filenames = directory.iterdir()\n",
        "    \n",
        "    for filename in directory.glob('**/*.mp3'):\n",
        "#     for i,filename in filenames:\n",
        "        x, sample_rate = librosa.load(filename, offset=30,duration=30)\n",
        "    \n",
        "        n_fft = 1024\n",
        "        hop_length = 256\n",
        "        n_mels = 40\n",
        "        fmin = 20\n",
        "        fmax = sample_rate / 2 \n",
        "    \n",
        "        mel_spec_power = librosa.feature.melspectrogram(x, sr=sample_rate, n_fft=n_fft, \n",
        "                                                        hop_length=hop_length, \n",
        "                                                        n_mels=n_mels, power=2.0, \n",
        "                                                        fmin=fmin, fmax=fmax)\n",
        "        mel_spec_db = librosa.power_to_db(mel_spec_power, ref=np.max)\n",
        "        plt.imsave(pathlib.Path(destination).joinpath(filename.name[:-4]+\".png\"), mel_spec_db)\n",
        "        print(filename)"
      ],
      "execution_count": 3,
      "outputs": []
    },
    {
      "cell_type": "code",
      "metadata": {
        "id": "kGU9lZcguXcm",
        "colab_type": "code",
        "colab": {}
      },
      "source": [
        "#classes = ['classique', 'pop', 'rap', 'rock']\n",
        "classes = ['classique', 'rap']"
      ],
      "execution_count": 4,
      "outputs": []
    },
    {
      "cell_type": "code",
      "metadata": {
        "id": "mPez7NDtuk6H",
        "colab_type": "code",
        "colab": {
          "base_uri": "https://localhost:8080/",
          "height": 1000
        },
        "outputId": "946240c4-08b4-4261-8578-6430494b67c6"
      },
      "source": [
        "for classe in classes:\n",
        "  audio2image(\"song-classifier/song/train/\" + classe, \"song-classifier/image-from-song/train/\" + classe)\n",
        "  audio2image(\"song-classifier/song/test/\" + classe, \"song-classifier/image-from-song/test/\" + classe)"
      ],
      "execution_count": null,
      "outputs": [
        {
          "output_type": "stream",
          "text": [
            "song-classifier/song/train/classique/Swan Lake Waltz - Tchaikovsky.mp3\n",
            "song-classifier/song/train/classique/Émile Waldteufel - The Skater's Waltz, Op. 183.mp3\n",
            "song-classifier/song/train/classique/Johann Sebastian Bach-Air on G String.mp3\n",
            "song-classifier/song/train/classique/The  Entertainer - Scott Joplin (Orchestral).mp3\n",
            "song-classifier/song/train/classique/Johannes Brahms - Danse hongroise N°5.mp3\n",
            "song-classifier/song/train/classique/vivaldi-four-seasons-winter-linverno-complete-cynthia-freivogel-voices-of-music-4k-rv-297.mp3\n",
            "song-classifier/song/train/classique/Maple leaf rag - Scott Joplin.mp3\n",
            "song-classifier/song/train/classique/Beethoven - Sonate au Clair de Lune.mp3\n",
            "song-classifier/song/train/classique/Mozart Symphony #40 in G Minor, K 550 - 1. Molto Allegro.mp3\n",
            "song-classifier/song/train/classique/Franz Schubert - Erlkönig (Roi des Aulnes).mp3\n",
            "song-classifier/song/train/classique/Pachelbel's Canon.mp3\n",
            "song-classifier/song/train/classique/Haendel - Sarabande.mp3\n",
            "song-classifier/song/train/classique/Luigi Boccherini - Minuet - String Quintet.mp3\n",
            "song-classifier/song/train/classique/Vivaldi - Cello Concerto in C Minor, RV 402 - 1, Allegro.mp3\n",
            "song-classifier/song/train/classique/Bach  - Minuet and Badinerie from Orchestral Suite No. 2 in B.mp3\n",
            "song-classifier/song/train/classique/Wolfgang Amadeus Mozart - Eine kleine Nachtmusik (Serenade No. 13 for strings in G major) complete.mp3\n",
            "song-classifier/song/train/classique/Karajan - Brahms Symphony No. 2 in D, Op. 73 - I. Allegro non troppo (Part 1).mp3\n",
            "song-classifier/song/train/classique/Händel Messiah - Hallelujah Chorus.mp3\n",
            "song-classifier/song/train/classique/johannes brahms hungarian dance 1 one.mp3\n",
            "song-classifier/song/train/classique/Tchaikovsky - Swan Lake , Le Lac des Cygnes.mp3\n",
            "song-classifier/song/train/classique/beethoven-moonlight-sonata-piano-orchestra.mp3\n",
            "song-classifier/song/train/classique/Va  pensiero ('Nabucco', G. Verdi).mp3\n",
            "song-classifier/song/train/classique/Beethoven's 5th Symphony.mp3\n",
            "song-classifier/song/train/classique/wolfgang-amadeus-mozart-piano-concerto-no-21-andante.mp3\n",
            "song-classifier/song/train/classique/Prokofiev - Roméo et Juliette - Danse des Chevaliers.mp3\n",
            "song-classifier/song/train/classique/Johannes Brahms - Lullaby.mp3\n",
            "song-classifier/song/train/classique/Offenbach - Infernal Galop.mp3\n",
            "song-classifier/song/train/classique/Petite Musique de Nuit K. 525 en sol majeur Allegro Mozart.mp3\n",
            "song-classifier/song/train/classique/Lettre à Elise    Ludwig van Beethovven.mp3\n",
            "song-classifier/song/test/classique/Chopin Nocturne Op 9 No 2 Arthur Rubinstein.mp3\n",
            "song-classifier/song/test/classique/A complete version of Camille Saint-Saens' 'Le carnaval des animaux' (Dutoit) - No. 1-7.mp3\n",
            "song-classifier/song/test/classique/Johann Sebastian  Bach - Brandenburgische Konzerte - 1  Konzert allegro - Brandenburg Concerto No. 1.mp3\n",
            "song-classifier/song/test/classique/Bizet - L'Arlesienne Suite No. 2 - Farandole.mp3\n",
            "song-classifier/song/test/classique/Schubert - Ave Maria.mp3\n",
            "song-classifier/song/test/classique/Antonio Vivaldi  - Concert for Two Trumpets, in C Major, RV 537 - 1st Movement - ClassicalExperience.mp3\n",
            "song-classifier/song/test/classique/Franz Liszt - Reve d'amour.wmv.mp3\n",
            "song-classifier/song/test/classique/Tchaikovski - Casse-noisette (Nutcracker) - Valse des fleurs.mp3\n",
            "song-classifier/song/test/classique/Radetzky March - Johann Strauss Sr.mp3\n",
            "song-classifier/song/test/classique/Wolfgang Amadeus Mozart - Piano Concerto No. 21 - Andante.mp3\n",
            "song-classifier/song/test/classique/Suite n°1 - Prélude - J.S. Bach - Violoncello da Spalla.mp3\n",
            "song-classifier/song/test/classique/Beethoven - Für Elise _ Piano Version.mp3\n",
            "song-classifier/song/train/rap/Jul - La Machine _ Clip Officiel _ 2019.mp3\n",
            "song-classifier/song/train/rap/Eminem - Like Toy Soldiers (Official Video).mp3\n",
            "song-classifier/song/train/rap/J.I., Lil Tjay - Hood Scars 2 (Official Music Video).mp3\n",
            "song-classifier/song/train/rap/6IX9INE- GOOBA (Official Music Video).mp3\n",
            "song-classifier/song/train/rap/Lil Baby x 42 Dugg - We Paid (Official Video).mp3\n",
            "song-classifier/song/train/rap/Gucci Mane - Both Sides feat. Lil Baby.mp3\n",
            "song-classifier/song/train/rap/StaySolidRocky- Party Girl (Official Music Video).mp3\n",
            "song-classifier/song/train/rap/Meek Mill - Otherside of America [Official Audio].mp3\n",
            "song-classifier/song/train/rap/A Boogie Wit Da Hoodie - Bleed [Official Music Video].mp3\n",
            "song-classifier/song/train/rap/The Kid LAROI, Juice WRLD - GO (Official Video).mp3\n",
            "song-classifier/song/train/rap/Soolking Ft Jul  - Come vai  (Audio Officiel).mp3\n",
            "song-classifier/song/train/rap/Eminem - Cleanin' Out My Closet (Official Video).mp3\n",
            "song-classifier/song/train/rap/JuL - Pow Pow _ Clip officiel _ 2019.mp3\n",
            "song-classifier/song/train/rap/JuL - Toto et Ninetta _ Clip officiel _ 2018.mp3\n",
            "song-classifier/song/train/rap/Jack Harlow - WHATS POPPIN (feat. DaBaby, Tory Lanez & Lil Wayne) [Official Visualizer].mp3\n",
            "song-classifier/song/train/rap/Lil Uzi Vert, Quavo & Travis Scott - Go Off (from The Fate of the Furious - The Album) [MUSIC VIDEO].mp3\n",
            "song-classifier/song/train/rap/Kendrick Lamar - Big Shot (feat. Travis Scott)  (Black Panther The Album Music From And Inspired By).mp3\n",
            "song-classifier/song/train/rap/THE SCOTTS, Travis Scott, Kid Cudi - THE SCOTTS (FORTNITE ASTRONOMICAL EVENT).mp3\n",
            "song-classifier/song/train/rap/Eminem - When I'm Gone (Official Music Video).mp3\n",
            "song-classifier/song/train/rap/Juice WRLD - Tell Me U Luv Me ft. Trippie Redd (Dir. by @_ColeBennett_).mp3\n"
          ],
          "name": "stdout"
        }
      ]
    },
    {
      "cell_type": "code",
      "metadata": {
        "id": "yyGpG80v2zW1",
        "colab_type": "code",
        "colab": {}
      },
      "source": [
        "from fastai.vision import *\n",
        "import warnings\n",
        "warnings.filterwarnings('ignore')\n",
        "\n",
        "import torch\n",
        "torch.cuda.get_device_name(0)\n",
        "#torch.cuda.set_device(0)"
      ],
      "execution_count": null,
      "outputs": []
    },
    {
      "cell_type": "code",
      "metadata": {
        "id": "dS0ODQFz24pO",
        "colab_type": "code",
        "colab": {}
      },
      "source": [
        "data = ImageDataBunch.from_folder(path=\"song-classifier/image-from-song/\", train=\"train\", test=\"test\", valid_pct=0.25, bs=128).normalize(imagenet_stats)"
      ],
      "execution_count": null,
      "outputs": []
    },
    {
      "cell_type": "code",
      "metadata": {
        "id": "q0Zt1rqJ26X6",
        "colab_type": "code",
        "colab": {}
      },
      "source": [
        "data.show_batch(rows=3)"
      ],
      "execution_count": null,
      "outputs": []
    },
    {
      "cell_type": "code",
      "metadata": {
        "id": "gmadjJ7o28Te",
        "colab_type": "code",
        "colab": {}
      },
      "source": [
        "learn = cnn_learner(data, models.resnet50, metrics=accuracy)"
      ],
      "execution_count": null,
      "outputs": []
    },
    {
      "cell_type": "code",
      "metadata": {
        "id": "2aOx3xBH29qc",
        "colab_type": "code",
        "colab": {}
      },
      "source": [
        "learn.lr_find()"
      ],
      "execution_count": null,
      "outputs": []
    },
    {
      "cell_type": "code",
      "metadata": {
        "id": "Kvm2owvC2_PW",
        "colab_type": "code",
        "colab": {}
      },
      "source": [
        "learn.recorder.plot(suggestion=True)"
      ],
      "execution_count": null,
      "outputs": []
    },
    {
      "cell_type": "code",
      "metadata": {
        "id": "gy8hanNh3A0b",
        "colab_type": "code",
        "colab": {}
      },
      "source": [
        "lr = learn.recorder.min_grad_lr"
      ],
      "execution_count": null,
      "outputs": []
    },
    {
      "cell_type": "code",
      "metadata": {
        "id": "Tbyl8vJk3COn",
        "colab_type": "code",
        "colab": {}
      },
      "source": [
        "learn.fit_one_cycle(4, slice(lr))"
      ],
      "execution_count": null,
      "outputs": []
    },
    {
      "cell_type": "code",
      "metadata": {
        "id": "uyFQZHBg3FIS",
        "colab_type": "code",
        "colab": {}
      },
      "source": [
        "preds, y, losses = learn.get_preds(with_loss=True)\n",
        "\n",
        "interp = ClassificationInterpretation(learn, preds, y, losses)\n",
        "interp.plot_confusion_matrix(figsize=(12,12), dpi=60)"
      ],
      "execution_count": null,
      "outputs": []
    },
    {
      "cell_type": "code",
      "metadata": {
        "id": "cz2AE8Qa3K6j",
        "colab_type": "code",
        "colab": {}
      },
      "source": [
        "#learn.save(\"\")"
      ],
      "execution_count": null,
      "outputs": []
    },
    {
      "cell_type": "code",
      "metadata": {
        "id": "hpfvdEzI3OhC",
        "colab_type": "code",
        "colab": {}
      },
      "source": [
        "# fine tuning\n",
        "learn.unfreeze()"
      ],
      "execution_count": null,
      "outputs": []
    },
    {
      "cell_type": "code",
      "metadata": {
        "id": "VCT2loi33UZs",
        "colab_type": "code",
        "colab": {}
      },
      "source": [
        "from IPython.display import Image\n",
        "filename = 'AI-sport-recognition/manualTest/rugby-ball.jpg'\n",
        "Image(filename=filename)\n",
        "\n"
      ],
      "execution_count": null,
      "outputs": []
    },
    {
      "cell_type": "code",
      "metadata": {
        "id": "MFIs5WbM3XXH",
        "colab_type": "code",
        "colab": {}
      },
      "source": [
        "img = open_image(filename)\n",
        "\n",
        "ypred = learn.predict(img)\n",
        "\n",
        "\n",
        "\n",
        "category = data.classes[ypred[1].item()]\n",
        "print(category)"
      ],
      "execution_count": null,
      "outputs": []
    }
  ]
}